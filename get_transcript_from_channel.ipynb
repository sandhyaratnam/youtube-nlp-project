{
 "cells": [
  {
   "cell_type": "code",
   "execution_count": null,
   "metadata": {},
   "outputs": [],
   "source": [
    "import os\n",
    "import io\n",
    "import sys\n",
    "\n",
    "import google_auth_oauthlib.flow\n",
    "import googleapiclient.discovery\n",
    "import googleapiclient.errors\n",
    "\n",
    "from youtube_transcript_api import YouTubeTranscriptApi\n",
    "\n",
    "scopes = [\"https://www.googleapis.com/auth/youtube.force-ssl\"]"
   ]
  },
  {
   "cell_type": "code",
   "execution_count": 5,
   "metadata": {},
   "outputs": [
    {
     "name": "stdout",
     "output_type": "stream",
     "text": [
      "UCbAwSkqJ1W_Eg7wr3cp5BUA\n"
     ]
    }
   ],
   "source": [
    "# method to gather the channel id from channel url\n",
    "# param: url - string\n",
    "# return: channel id - string\n",
    "# raise ValueError when input is not a valid url\n",
    "def get_channel_id_from_url(url):\n",
    "    if not url.startswith(\"https://www.youtube.com/channel/\"):\n",
    "        raise ValueError(\"input url not a url\")\n",
    "    else:\n",
    "        return url[len(\"https://www.youtube.com/channel/\"):]\n",
    "\n",
    "# print(get_channel_id_from_url(\"https://www.youtube.com/channel/UCbAwSkqJ1W_Eg7wr3cp5BUA\"))"
   ]
  },
  {
   "cell_type": "code",
   "execution_count": null,
   "metadata": {},
   "outputs": [],
   "source": [
    "# method to get video ids from channel id\n",
    "def get_vidids_from_channel(channel_id):\n",
    "    "
   ]
  },
  {
   "cell_type": "code",
   "execution_count": null,
   "metadata": {},
   "outputs": [],
   "source": [
    "# method to get transcript from video ids\n",
    "# params: video_ids - a list of video ids\n",
    "# TODO return type?\n",
    "def get_transcript_from_vidids(video_ids):\n",
    "    script = []\n",
    "    for i in range(len(video_ids)):\n",
    "        script.append(YouTubeTranscriptApi.get_transcript(video_ids[i]))\n",
    "    print(script)\n",
    "\n",
    "    with open('sample_caption.txt',\"w\") as filehandle:\n",
    "        for i in range(len(script)):\n",
    "            for listitem in script[i]:\n",
    "                filehandle.write(listitem.get('text')+\" \")\n"
   ]
  },
  {
   "cell_type": "code",
   "execution_count": null,
   "metadata": {},
   "outputs": [],
   "source": [
    "def main():\n",
    "    # Disable OAuthlib's HTTPS verification when running locally.\n",
    "    # *DO NOT* leave this option enabled in production.\n",
    "    os.environ[\"OAUTHLIB_INSECURE_TRANSPORT\"] = \"0\"\n",
    "\n",
    "    api_service_name = \"youtube\"\n",
    "    api_version = \"v3\"\n",
    "    client_secrets_file = \"client_secret.json\"\n",
    "\n",
    "    # Get credentials and create an API client\n",
    "    flow = google_auth_oauthlib.flow.InstalledAppFlow.from_client_secrets_file(client_secrets_file, scopes)\n",
    "    credentials = flow.run_console()\n",
    "    youtube = googleapiclient.discovery.build(\n",
    "        api_service_name, api_version, credentials=credentials)\n"
   ]
  }
 ],
 "metadata": {
  "kernelspec": {
   "display_name": "Python 3",
   "language": "python",
   "name": "python3"
  },
  "language_info": {
   "codemirror_mode": {
    "name": "ipython",
    "version": 3
   },
   "file_extension": ".py",
   "mimetype": "text/x-python",
   "name": "python",
   "nbconvert_exporter": "python",
   "pygments_lexer": "ipython3",
   "version": "3.8.3"
  }
 },
 "nbformat": 4,
 "nbformat_minor": 4
}
