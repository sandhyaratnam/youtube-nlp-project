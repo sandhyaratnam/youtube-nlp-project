{
 "cells": [
  {
   "cell_type": "code",
   "execution_count": 6,
   "metadata": {},
   "outputs": [
    {
     "name": "stdout",
     "output_type": "stream",
     "text": [
      "Please visit this URL to authorize this application: https://accounts.google.com/o/oauth2/auth?response_type=code&client_id=1058491395494-4qbe4hpnb5akqgcfervr8si3ufe0fgk5.apps.googleusercontent.com&redirect_uri=urn%3Aietf%3Awg%3Aoauth%3A2.0%3Aoob&scope=https%3A%2F%2Fwww.googleapis.com%2Fauth%2Fyoutube.force-ssl&state=hNROqvCed3MOXS3ZN0SllCu5bex1la&prompt=consent&access_type=offline\n",
      "Enter the authorization code: 4/3QG0RwdN2pTB3OftcyZe3IhXWHiOxtOG_LjmppKeZPQsVf_FAdHrmrc\n",
      "{'kind': 'youtube#captionResponse', 'etag': 'slQ01zmF9HPtPE1nq5e0LcYQUlA', 'items': [{'kind': 'youtube#caption', 'etag': 'nTDSde_jDlVppqR8cq5zqH9TQ_4', 'id': 'jXIs-H4LzSzIyU6zqJKY-FUYuT9zMkb5H6fcht0JRYs=', 'snippet': {'videoId': 'b-y5WSGynbY', 'lastUpdated': '2020-08-13T18:48:41.192000Z', 'trackKind': 'asr', 'language': 'en', 'name': '', 'audioTrackType': 'unknown', 'isCC': False, 'isLarge': False, 'isEasyReader': False, 'isDraft': False, 'isAutoSynced': False, 'status': 'serving'}}]}\n",
      "{'kind': 'youtube#captionResponse', 'etag': 'CFHFSWJn3DXreTVvk6gm5QSpB_Q', 'items': [{'kind': 'youtube#caption', 'etag': 'YaOUdzC19NxfrP8DpPQv4f8w7Q4', 'id': '5DU-_yN_C-tdweyeUsXKxUTz5qIDzSLrvaEe_cwYdsA=', 'snippet': {'videoId': 'EBDxEHzidx0', 'lastUpdated': '2020-04-09T16:23:04.500000Z', 'trackKind': 'asr', 'language': 'en', 'name': '', 'audioTrackType': 'unknown', 'isCC': False, 'isLarge': False, 'isEasyReader': False, 'isDraft': False, 'isAutoSynced': False, 'status': 'serving'}}]}\n"
     ]
    }
   ],
   "source": [
    "# -*- coding: utf-8 -*-\n",
    "\n",
    "# Sample Python code for youtube.captions.list\n",
    "# See instructions for running these code samples locally:\n",
    "# https://developers.google.com/explorer-help/guides/code_samples#python\n",
    "\n",
    "import os\n",
    "\n",
    "import google_auth_oauthlib.flow\n",
    "import googleapiclient.discovery\n",
    "import googleapiclient.errors\n",
    "\n",
    "scopes = [\"https://www.googleapis.com/auth/youtube.force-ssl\"]\n",
    "\n",
    "def main():\n",
    "    # Disable OAuthlib's HTTPS verification when running locally.\n",
    "    # *DO NOT* leave this option enabled in production.\n",
    "    os.environ[\"OAUTHLIB_INSECURE_TRANSPORT\"] = \"0\"\n",
    "\n",
    "    api_service_name = \"youtube\"\n",
    "    api_version = \"v3\"\n",
    "    client_secrets_file = \"client_secret.json\"\n",
    "\n",
    "    # Get credentials and create an API client\n",
    "    flow = google_auth_oauthlib.flow.InstalledAppFlow.from_client_secrets_file(\n",
    "        client_secrets_file, scopes)\n",
    "    credentials = flow.run_console()\n",
    "    youtube = googleapiclient.discovery.build(\n",
    "        api_service_name, api_version, credentials=credentials)\n",
    "\n",
    "    request = youtube.captions().list(\n",
    "        videoId=\"b-y5WSGynbY\",\n",
    "        part=\"snippet\"\n",
    "        \n",
    "    )\n",
    "    response = request.execute()\n",
    "\n",
    "    print(response)\n",
    "    \n",
    "    request2 = youtube.captions().list(\n",
    "        videoId=\"EBDxEHzidx0\",\n",
    "        part=\"snippet\"\n",
    "    )\n",
    "    \n",
    "    response2 = request2.execute()\n",
    "    \n",
    "    print(response2)\n",
    "\n",
    "if __name__ == \"__main__\":\n",
    "    main()"
   ]
  },
  {
   "cell_type": "code",
   "execution_count": null,
   "metadata": {},
   "outputs": [],
   "source": []
  }
 ],
 "metadata": {
  "kernelspec": {
   "display_name": "Python 3",
   "language": "python",
   "name": "python3"
  },
  "language_info": {
   "codemirror_mode": {
    "name": "ipython",
    "version": 3
   },
   "file_extension": ".py",
   "mimetype": "text/x-python",
   "name": "python",
   "nbconvert_exporter": "python",
   "pygments_lexer": "ipython3",
   "version": "3.8.3"
  }
 },
 "nbformat": 4,
 "nbformat_minor": 4
}
