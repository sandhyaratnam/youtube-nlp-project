{
 "cells": [
  {
   "cell_type": "code",
   "execution_count": 6,
   "metadata": {},
   "outputs": [
    {
     "name": "stdout",
     "output_type": "stream",
     "text": [
      "Please visit this URL to authorize this application: https://accounts.google.com/o/oauth2/auth?response_type=code&client_id=1058491395494-4qbe4hpnb5akqgcfervr8si3ufe0fgk5.apps.googleusercontent.com&redirect_uri=urn%3Aietf%3Awg%3Aoauth%3A2.0%3Aoob&scope=https%3A%2F%2Fwww.googleapis.com%2Fauth%2Fyoutube.force-ssl&state=BDXZ6nZPF4faPUiX0cc8JuQqdWm7Fz&prompt=consent&access_type=offline\n",
      "Enter the authorization code: 4/3QEl70-JdyHhKkZ_CHpvQrO4d8Jf3EzKcZD4XkkZsQmVE4kT8ATJGQ0\n",
      "{'kind': 'youtube#captionResponse', 'etag': 'slQ01zmF9HPtPE1nq5e0LcYQUlA', 'items': [{'kind': 'youtube#caption', 'etag': 'nTDSde_jDlVppqR8cq5zqH9TQ_4', 'id': 'jXIs-H4LzSzIyU6zqJKY-FUYuT9zMkb5H6fcht0JRYs=', 'snippet': {'videoId': 'b-y5WSGynbY', 'lastUpdated': '2020-08-13T18:48:41.192000Z', 'trackKind': 'asr', 'language': 'en', 'name': '', 'audioTrackType': 'unknown', 'isCC': False, 'isLarge': False, 'isEasyReader': False, 'isDraft': False, 'isAutoSynced': False, 'status': 'serving'}}]}\n",
      "{'kind': 'youtube#captionResponse', 'etag': 'BqSLotbr9K9zcBz4wuXIb_9m3vk', 'items': [{'kind': 'youtube#caption', 'etag': '5dzJTQVoZYBQFKAa5d4IWgl6ApE', 'id': 'D8dI_-vuSMg2PTJJcj5D83vIG8xTzibVTrGVc9uYYgo=', 'snippet': {'videoId': '9uXuCKj-D_Q', 'lastUpdated': '2018-12-01T17:10:04.948000Z', 'trackKind': 'asr', 'language': 'en', 'name': '', 'audioTrackType': 'unknown', 'isCC': False, 'isLarge': False, 'isEasyReader': False, 'isDraft': False, 'isAutoSynced': False, 'status': 'serving'}}]}\n"
     ]
    }
   ],
   "source": [
    "# -*- coding: utf-8 -*-\n",
    "\n",
    "# Sample Python code for youtube.captions.list\n",
    "# See instructions for running these code samples locally:\n",
    "# https://developers.google.com/explorer-help/guides/code_samples#python\n",
    "\n",
    "import os\n",
    "import io\n",
    "\n",
    "import google_auth_oauthlib.flow\n",
    "import googleapiclient.discovery\n",
    "import googleapiclient.errors\n",
    "\n",
    "from googleapiclient.http import MediaIoBaseDownload\n",
    "\n",
    "scopes = [\"https://www.googleapis.com/auth/youtube.force-ssl\"]\n",
    "\n",
    "def main():\n",
    "    # Disable OAuthlib's HTTPS verification when running locally.\n",
    "    # *DO NOT* leave this option enabled in production.\n",
    "    os.environ[\"OAUTHLIB_INSECURE_TRANSPORT\"] = \"0\"\n",
    "\n",
    "    api_service_name = \"youtube\"\n",
    "    api_version = \"v3\"\n",
    "    client_secrets_file = \"client_secret.json\"\n",
    "\n",
    "    # Get credentials and create an API client\n",
    "    flow = google_auth_oauthlib.flow.InstalledAppFlow.from_client_secrets_file(\n",
    "        client_secrets_file, scopes)\n",
    "    credentials = flow.run_console()\n",
    "    youtube = googleapiclient.discovery.build(\n",
    "        api_service_name, api_version, credentials=credentials)\n",
    "\n",
    "    request = youtube.captions().list(\n",
    "        videoId=\"b-y5WSGynbY\",\n",
    "        part=\"snippet\"\n",
    "        \n",
    "    )\n",
    "    response = request.execute()\n",
    "\n",
    "    print(response)\n",
    "    \n",
    "    request2 = youtube.captions().list(\n",
    "        videoId=\"9uXuCKj-D_Q\",\n",
    "        part=\"snippet\"\n",
    "    )\n",
    "    \n",
    "    response2 = request2.execute()\n",
    "    \n",
    "    print(response2)\n",
    "    \n",
    "    request = youtube.captions().download(\n",
    "        id=\"D8dI_-vuSMg2PTJJcj5D83vIG8xTzibVTrGVc9uYYgo=\"\n",
    "    )\n",
    "    # TODO: For this request to work, you must replace \"YOUR_FILE\"\n",
    "    #       with the location where the downloaded content should be written.\n",
    "    fh = io.FileIO(\"sample_caption.txt\", mode=\"wb\",closefd=True)\n",
    "\n",
    "    download = MediaIoBaseDownload(fh, request)\n",
    "    complete = False\n",
    "    while not complete:\n",
    "      status, complete = download.next_chunk()\n",
    "\n",
    "if __name__ == \"__main__\":\n",
    "    main()"
   ]
  },
  {
   "cell_type": "code",
   "execution_count": null,
   "metadata": {},
   "outputs": [],
   "source": []
  }
 ],
 "metadata": {
  "kernelspec": {
   "display_name": "Python 3",
   "language": "python",
   "name": "python3"
  },
  "language_info": {
   "codemirror_mode": {
    "name": "ipython",
    "version": 3
   },
   "file_extension": ".py",
   "mimetype": "text/x-python",
   "name": "python",
   "nbconvert_exporter": "python",
   "pygments_lexer": "ipython3",
   "version": "3.8.3"
  }
 },
 "nbformat": 4,
 "nbformat_minor": 4
}
