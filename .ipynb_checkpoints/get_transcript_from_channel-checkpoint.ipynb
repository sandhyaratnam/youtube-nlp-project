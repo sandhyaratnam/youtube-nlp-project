{
 "cells": [
  {
   "cell_type": "code",
   "execution_count": 1,
   "metadata": {},
   "outputs": [
    {
     "name": "stdout",
     "output_type": "stream",
     "text": [
      "Please visit this URL to authorize this application: https://accounts.google.com/o/oauth2/auth?response_type=code&client_id=1058491395494-4qbe4hpnb5akqgcfervr8si3ufe0fgk5.apps.googleusercontent.com&redirect_uri=urn%3Aietf%3Awg%3Aoauth%3A2.0%3Aoob&scope=https%3A%2F%2Fwww.googleapis.com%2Fauth%2Fyoutube.readonly&state=WrdCzdpo99sGqWjPTUrVYLyDUcOvd3&prompt=consent&access_type=offline\n",
      "Enter the authorization code: 4/3QFDu-P4tXBcRcYzIxq8aVBc6E3o0XWfr23mrC2_ZttK5GxVQWI79rI\n"
     ]
    }
   ],
   "source": [
    "import os\n",
    "import io\n",
    "import sys\n",
    "\n",
    "import google_auth_oauthlib.flow\n",
    "import googleapiclient.discovery\n",
    "import googleapiclient.errors\n",
    "\n",
    "from youtube_transcript_api import YouTubeTranscriptApi\n",
    "\n",
    "scopes = [\"https://www.googleapis.com/auth/youtube.readonly\"]\n",
    "# scopes = [\"https://www.googleapis.com/auth/youtube.force-ssl\"]\n",
    "\n",
    "# Disable OAuthlib's HTTPS verification when running locally.\n",
    "# *DO NOT* leave this option enabled in production.\n",
    "os.environ[\"OAUTHLIB_INSECURE_TRANSPORT\"] = \"1\"\n",
    "\n",
    "api_service_name = \"youtube\"\n",
    "api_version = \"v3\"\n",
    "client_secrets_file = \"client_secret_Thu.json\"\n",
    "\n",
    "# Get credentials and create an API client\n",
    "flow = google_auth_oauthlib.flow.InstalledAppFlow.from_client_secrets_file(client_secrets_file, scopes)\n",
    "credentials = flow.run_console()\n",
    "youtube = googleapiclient.discovery.build(\n",
    "        api_service_name, api_version, credentials=credentials)"
   ]
  },
  {
   "cell_type": "code",
   "execution_count": 2,
   "metadata": {},
   "outputs": [],
   "source": [
    "# method to get video ids from channel url\n",
    "# params: url - string to a youtube channel\n",
    "# return video_ids - list\n",
    "# raise ValueError when input is invalid channel id\n",
    "def get_vidids_from_channel(url):\n",
    "    if not url.startswith(\"https://www.youtube.com/channel/\"):\n",
    "        raise ValueError(\"input url not a url\")\n",
    "    else:\n",
    "        channel_id = url[len(\"https://www.youtube.com/channel/\"):]\n",
    "    \n",
    "    # get the playlist of upload videos by the channel\n",
    "    request = youtube.channels().list(\n",
    "        part=\"contentDetails\",\n",
    "        id=channel_id\n",
    "    )\n",
    "    response = request.execute()\n",
    "    if \"items\" not in response:\n",
    "        raise ValueError(\"channel id not valid\")\n",
    "    \n",
    "    upload_playlist_id = response[\"items\"][0][\"contentDetails\"][\"relatedPlaylists\"][\"uploads\"]\n",
    "    #print(upload_playlist_id)\n",
    "    \n",
    "    # retrieve a list of video ids from upload playlist\n",
    "    request = youtube.playlistItems().list(\n",
    "        part=\"contentDetails\",\n",
    "        maxResults=50,\n",
    "        playlistId=upload_playlist_id\n",
    "    )\n",
    "    response = request.execute()\n",
    "    \n",
    "    items = response[\"items\"]\n",
    "    video_ids = []\n",
    "    for each in items:\n",
    "        video_ids.append(each[\"contentDetails\"][\"videoId\"])\n",
    "        \n",
    "    #print(video_ids)\n",
    "    return video_ids"
   ]
  },
  {
   "cell_type": "code",
   "execution_count": 7,
   "metadata": {},
   "outputs": [],
   "source": [
    "# method to get transcript from video ids\n",
    "# params: video_ids - a list of video ids\n",
    "# TODO return type?\n",
    "def get_transcript_from_vidids(video_ids):\n",
    "    script = []\n",
    "    for i in range(len(video_ids)):\n",
    "        script.append(YouTubeTranscriptApi.get_transcript(video_ids[i], languages = ['en']))\n",
    "    print(script)\n",
    "\n",
    "    with open('sample_caption.txt',\"w\") as filehandle:\n",
    "        for i in range(len(script)):\n",
    "            for listitem in script[i]:\n",
    "                filehandle.write(listitem.get('text')+\" \")\n"
   ]
  },
  {
   "cell_type": "code",
   "execution_count": null,
   "metadata": {},
   "outputs": [
    {
     "name": "stdout",
     "output_type": "stream",
     "text": [
      "['W2hRTTTpmr8', 'lGSOWwUvJiU', 'ht7MNqZT_hU', 'zItV3TbP5XA', 'HDntl7yzzVI', '0zXfDafyyao', 'a9m3GD0DbPY', 'LbPw9AlVKVM', 'UoSSCUMk-7I', 'xVQxvthAcLU', 'h_OeMVcol1g', 'XXhc5UTxv5I', 'HxRUuGqqMG4', 'Is1IWMPNqh4', 'WUjVPIEtJd0', 'Fr-qagv7ig0', 'dqcSk-EDrRo', 'Bbb5XC6DYxY', 'tJuYL3nPINM', '9TugA_z5vQE', 'g9QneAV4fVo', 'oMF6pIglmmk', 'mcZdTvOqmvI', 'd_fHun8jj2g', 'cT993ypa0_A', 'ysTPxUZnZaU', 's3B-qp3U5G0', 'khOUvmOQExc', 'C1oxhniG_Fc', 'Y_N0AxCzVLg', 'MzSktgpfD84', 'UG61a5vjxuI', 'cY4e0uvp7uI', 'fn--IVarumw', 'kTaYet07Ioo', 'GJ9_7L873m8', 'JHjXwicEwQo', '_6meNQW28vE', 'dY0TVzNXH6U', 'Ihoys69G56U', '9UHIWVtAdhY', 'esJkln9wAEg', 'qQ01eLt_bxo', 'W8uXhQnWgj4', 'LfeEu4_vtfQ', 'rxm4KRVTB-4', 'pTysrwci0pU', 'UQkBcHLZOqU', '3hurvRBoYgM', 'L87HuKmGwVQ']\n"
     ]
    }
   ],
   "source": [
    "def main():\n",
    "    vid_ids = get_vidids_from_channel(\"https://www.youtube.com/channel/UCbAwSkqJ1W_Eg7wr3cp5BUA\")\n",
    "    get_transcript_from_vidids(vid_ids)\n",
    "#     get_vidids_from_channel(\"https://www.youtube.com/channel/UCG7RoGLCkUT7kauOBCRmVEg\")\n",
    "#     get_vidids_from_channel(\"https://www.youtube.com/channel/UCGCVyTWogzQ4D170BLy2Arw\")\n",
    "\n",
    "if __name__ == \"__main__\":\n",
    "    main()"
   ]
  },
  {
   "cell_type": "code",
   "execution_count": null,
   "metadata": {},
   "outputs": [],
   "source": []
  }
 ],
 "metadata": {
  "kernelspec": {
   "display_name": "Python 3",
   "language": "python",
   "name": "python3"
  },
  "language_info": {
   "codemirror_mode": {
    "name": "ipython",
    "version": 3
   },
   "file_extension": ".py",
   "mimetype": "text/x-python",
   "name": "python",
   "nbconvert_exporter": "python",
   "pygments_lexer": "ipython3",
   "version": "3.8.3"
  }
 },
 "nbformat": 4,
 "nbformat_minor": 4
}
